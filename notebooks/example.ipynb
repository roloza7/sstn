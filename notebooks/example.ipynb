{
 "cells": [
  {
   "cell_type": "code",
   "execution_count": 14,
   "id": "20bf7b13",
   "metadata": {},
   "outputs": [
    {
     "name": "stdout",
     "output_type": "stream",
     "text": [
      "The autoreload extension is already loaded. To reload it, use:\n",
      "  %reload_ext autoreload\n"
     ]
    }
   ],
   "source": [
    "import sstn\n",
    "\n",
    "%load_ext autoreload\n",
    "%autoreload 2"
   ]
  },
  {
   "cell_type": "code",
   "execution_count": 22,
   "id": "14a0e5cc",
   "metadata": {},
   "outputs": [
    {
     "data": {
      "text/plain": [
       "'hello sampl string lot punctuat'"
      ]
     },
     "execution_count": 22,
     "metadata": {},
     "output_type": "execute_result"
    }
   ],
   "source": [
    "# Normalizing a simple string\n",
    "\n",
    "sample_string = \"Hello, I am a sample string with not a lot of punctuation.\"\n",
    "sstn.normalize_text(sample_string)"
   ]
  },
  {
   "cell_type": "code",
   "execution_count": 16,
   "id": "c2f471ce",
   "metadata": {},
   "outputs": [
    {
     "name": "stdout",
     "output_type": "stream",
     "text": [
      "{\"id\":\"b1cb7e65-b848-4f81-a6ca-9039fb52be5d\",\"text\":\"hello sampl string lot punctuat\",\"label\":1}\n"
     ]
    }
   ],
   "source": [
    "# Normalizing a whole document\n",
    "import json\n",
    "import gzip\n",
    "import uuid\n",
    "import os\n",
    "\n",
    "# Create a temporary directory\n",
    "with gzip.open(\"sample.jsonl.gz\", \"wb\") as f:\n",
    "    for _ in range(1000):\n",
    "        as_json = {\n",
    "            \"id\": str(uuid.uuid4()),\n",
    "            \"text\": \"Hello, I am a sample string with not a lot of punctuation.\",\n",
    "            \"label\": 1,\n",
    "        }\n",
    "        f.write(json.dumps(as_json).encode(\"utf-8\") + b\"\\n\")\n",
    "\n",
    "sstn.normalize_jsonl_file(\n",
    "    \"sample.jsonl.gz\",\n",
    "    \"sample_normalized.jsonl.gz\",\n",
    "    \"text\",\n",
    "    workers=4\n",
    ")\n",
    "\n",
    "with gzip.open(\"sample_normalized.jsonl.gz\", \"rb\") as f:\n",
    "    for line in f:\n",
    "        print(line.decode(\"utf-8\").strip())\n",
    "        break\n",
    "\n",
    "os.remove(\"sample.jsonl.gz\")\n",
    "os.remove(\"sample_normalized.jsonl.gz\")"
   ]
  },
  {
   "cell_type": "code",
   "execution_count": null,
   "id": "6964e68e",
   "metadata": {},
   "outputs": [],
   "source": []
  }
 ],
 "metadata": {
  "kernelspec": {
   "display_name": "Python 3",
   "language": "python",
   "name": "python3"
  },
  "language_info": {
   "codemirror_mode": {
    "name": "ipython",
    "version": 3
   },
   "file_extension": ".py",
   "mimetype": "text/x-python",
   "name": "python",
   "nbconvert_exporter": "python",
   "pygments_lexer": "ipython3",
   "version": "3.12.9"
  }
 },
 "nbformat": 4,
 "nbformat_minor": 5
}
