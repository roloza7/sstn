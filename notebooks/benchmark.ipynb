{
 "cells": [
  {
   "cell_type": "code",
   "execution_count": 3,
   "id": "f4abed17",
   "metadata": {},
   "outputs": [
    {
     "name": "stdout",
     "output_type": "stream",
     "text": [
      "The autoreload extension is already loaded. To reload it, use:\n",
      "  %reload_ext autoreload\n"
     ]
    }
   ],
   "source": [
    "import sstn\n",
    "import gzip\n",
    "import time\n",
    "\n",
    "%load_ext autoreload\n",
    "%autoreload 2"
   ]
  },
  {
   "cell_type": "code",
   "execution_count": 5,
   "id": "d54d9d09",
   "metadata": {},
   "outputs": [
    {
     "name": "stdout",
     "output_type": "stream",
     "text": [
      "Number of lines in cc_en_middle-0577.json.gz: 1728281\n",
      "Normalization took 96.68 seconds\n",
      "Time per document: 0.000056 seconds\n"
     ]
    }
   ],
   "source": [
    "file = \"cc_en_middle-0577.json.gz\"\n",
    "\n",
    "# Count number of lines in the file\n",
    "with gzip.open(file, \"rt\") as f:\n",
    "    line_count = sum(1 for _ in f)\n",
    "\n",
    "print(f\"Number of lines in {file}: {line_count}\")\n",
    "\n",
    "time_start = time.time()\n",
    "sstn.normalize_jsonl_file(\n",
    "    file,\n",
    "    \"cc_en_middle-0577_normalized.jsonl\",\n",
    "    \"text\",\n",
    "    workers=16,\n",
    ")\n",
    "time_end = time.time()\n",
    "\n",
    "print(f\"Normalization took {time_end - time_start:.2f} seconds\")\n",
    "time_per_line = (time_end - time_start) / line_count\n",
    "print(f\"Time per document: {time_per_line:.6f} seconds\")"
   ]
  },
  {
   "cell_type": "code",
   "execution_count": null,
   "id": "34f966e9",
   "metadata": {},
   "outputs": [],
   "source": []
  }
 ],
 "metadata": {
  "kernelspec": {
   "display_name": "Python 3",
   "language": "python",
   "name": "python3"
  },
  "language_info": {
   "codemirror_mode": {
    "name": "ipython",
    "version": 3
   },
   "file_extension": ".py",
   "mimetype": "text/x-python",
   "name": "python",
   "nbconvert_exporter": "python",
   "pygments_lexer": "ipython3",
   "version": "3.12.9"
  }
 },
 "nbformat": 4,
 "nbformat_minor": 5
}
